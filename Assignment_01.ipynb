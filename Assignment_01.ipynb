{
 "cells": [
  {
   "cell_type": "code",
   "execution_count": 2,
   "id": "f33bd9f8",
   "metadata": {},
   "outputs": [
    {
     "name": "stdout",
     "output_type": "stream",
     "text": [
      "Enter a number:5\n",
      "Enter another number:6\n",
      "The two number before swap: 5 6\n",
      "After swap two number are: 6 5\n"
     ]
    }
   ],
   "source": [
    "#Swap the values\n",
    "x=input(\"Enter a number:\")\n",
    "y=input(\"Enter another number:\")\n",
    "\n",
    "print(\"The two number before swap:\",x,y)\n",
    "\n",
    "x,y = y,x\n",
    "\n",
    "print(\"After swap two number are:\",x,y)"
   ]
  },
  {
   "cell_type": "code",
   "execution_count": 5,
   "id": "88ddaf10",
   "metadata": {},
   "outputs": [
    {
     "name": "stdout",
     "output_type": "stream",
     "text": [
      "Enter the width of rectangle:9\n",
      "Enter the length of rectangle:10\n",
      "The area of the rectangular: 90\n"
     ]
    }
   ],
   "source": [
    "#area of a rectangular\n",
    "x = input(\"Enter the width of rectangle:\")\n",
    "y = input(\"Enter the length of rectangle:\")\n",
    "\n",
    "area = int(x) * int(y)\n",
    "\n",
    "print(\"The area of the rectangular:\",area)"
   ]
  },
  {
   "cell_type": "code",
   "execution_count": 7,
   "id": "a2ec8674",
   "metadata": {},
   "outputs": [
    {
     "name": "stdout",
     "output_type": "stream",
     "text": [
      "Enter the celcious temperature:26\n",
      "The fahrenheit temputature is 78.80000000000001\n"
     ]
    }
   ],
   "source": [
    "#Celcious to Fahrenheit convert\n",
    "c = input(\"Enter the celcious temperature:\")\n",
    "\n",
    "f = ((int(c) * (9/5)) + 32)\n",
    "\n",
    "print(\"The fahrenheit temputature is\",f)"
   ]
  },
  {
   "cell_type": "code",
   "execution_count": 9,
   "id": "fa4af686",
   "metadata": {},
   "outputs": [
    {
     "name": "stdout",
     "output_type": "stream",
     "text": [
      "Enter a string:Tony became Ironman\n",
      "The length of the string is: 19\n"
     ]
    }
   ],
   "source": [
    "sta = input(\"Enter a string:\")\n",
    "length = len(sta)\n",
    "\n",
    "print(\"The length of the string is:\",length)"
   ]
  },
  {
   "cell_type": "code",
   "execution_count": 1,
   "id": "fc74f2ae",
   "metadata": {},
   "outputs": [
    {
     "name": "stdout",
     "output_type": "stream",
     "text": [
      "Enter a string:AEIOUaeiou\n",
      "The number of vowel in the given string is: 10\n"
     ]
    }
   ],
   "source": [
    "#count vowel in a string\n",
    "string = input(\"Enter a string:\")\n",
    "vowel = set(\"AEIOUaeiou\")\n",
    "c=0\n",
    "for i in string:\n",
    "    if i in vowel:\n",
    "        c = c+1\n",
    "\n",
    "print(\"The number of vowel in the given string is:\",c)\n",
    "   "
   ]
  },
  {
   "cell_type": "code",
   "execution_count": 3,
   "id": "2969c69e",
   "metadata": {},
   "outputs": [
    {
     "name": "stdout",
     "output_type": "stream",
     "text": [
      "Enter a String:mahbus\n",
      "The reverse string of the given string is: subham\n"
     ]
    }
   ],
   "source": [
    "#reverse string\n",
    "string = input(\"Enter a String:\")\n",
    "rev_string = string[::-1]\n",
    "print(\"The reverse string of the given string is:\",r_string)"
   ]
  },
  {
   "cell_type": "code",
   "execution_count": 8,
   "id": "14a1a565",
   "metadata": {},
   "outputs": [
    {
     "name": "stdout",
     "output_type": "stream",
     "text": [
      "Enter a String:possible\n",
      "It is not palindrom\n"
     ]
    }
   ],
   "source": [
    "#palindrom or not check\n",
    "string = input(\"Enter a String:\")\n",
    "rev_string = string[::-1]\n",
    "\n",
    "if string == rev_string:\n",
    "    print(\"It is palindrom\")\n",
    "else:\n",
    "    print(\"It is not palindrom\")\n",
    "    "
   ]
  },
  {
   "cell_type": "code",
   "execution_count": 1,
   "id": "f0d4bac5",
   "metadata": {},
   "outputs": [
    {
     "name": "stdout",
     "output_type": "stream",
     "text": [
      "Enter a string: Captain America\n",
      "String without space:  CaptainAmerica\n"
     ]
    }
   ],
   "source": [
    "#remove space from string\n",
    "string = input(\"Enter a string: \")\n",
    "print(\"String without space: \",string.replace(\" \",\"\"))"
   ]
  }
 ],
 "metadata": {
  "kernelspec": {
   "display_name": "Python 3 (ipykernel)",
   "language": "python",
   "name": "python3"
  },
  "language_info": {
   "codemirror_mode": {
    "name": "ipython",
    "version": 3
   },
   "file_extension": ".py",
   "mimetype": "text/x-python",
   "name": "python",
   "nbconvert_exporter": "python",
   "pygments_lexer": "ipython3",
   "version": "3.11.4"
  }
 },
 "nbformat": 4,
 "nbformat_minor": 5
}
